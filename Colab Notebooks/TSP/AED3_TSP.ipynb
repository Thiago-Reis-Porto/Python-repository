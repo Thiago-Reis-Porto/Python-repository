{
  "nbformat": 4,
  "nbformat_minor": 0,
  "metadata": {
    "colab": {
      "name": "AED3_TSP.ipynb",
      "provenance": [],
      "collapsed_sections": [],
      "mount_file_id": "1aWnV-gZ2dbB67E_uojiiYXss8Rx8uup8",
      "authorship_tag": "ABX9TyP3nBWSTRDSZ/yacbXvI91T",
      "include_colab_link": true
    },
    "kernelspec": {
      "display_name": "Python 3",
      "name": "python3"
    },
    "language_info": {
      "name": "python"
    }
  },
  "cells": [
    {
      "cell_type": "markdown",
      "metadata": {
        "id": "view-in-github",
        "colab_type": "text"
      },
      "source": [
        "<a href=\"https://colab.research.google.com/github/Thiago-Reis-Porto/Python-repository/blob/main/AED3_TSP.ipynb\" target=\"_parent\"><img src=\"https://colab.research.google.com/assets/colab-badge.svg\" alt=\"Open In Colab\"/></a>"
      ]
    },
    {
      "cell_type": "markdown",
      "metadata": {
        "id": "nYty7TMAQrjF"
      },
      "source": [
        "#<center>TRABALHO ALGORITMO APROXIMATIVO AED3</center>\n",
        "\n",
        "<h1><center>Thiago Reis Porto</center></h1>"
      ]
    },
    {
      "cell_type": "markdown",
      "metadata": {
        "id": "b7tZiKAFyDAy"
      },
      "source": [
        "**Bibliotecas**"
      ]
    },
    {
      "cell_type": "code",
      "metadata": {
        "id": "NzANipyI9CTQ"
      },
      "source": [
        "import numpy as np\n",
        "import sys \n",
        "import itertools \n",
        "import random\n",
        "import bisect\n",
        "import time\n",
        "import matplotlib.pyplot as plt"
      ],
      "execution_count": null,
      "outputs": []
    },
    {
      "cell_type": "markdown",
      "metadata": {
        "id": "SVRNQBq2xkpS"
      },
      "source": [
        "**Utilitários** "
      ]
    },
    {
      "cell_type": "code",
      "metadata": {
        "id": "TTPbSxpLPLrE"
      },
      "source": [
        "#-------------------------------------------------------------------------------\n",
        "# Create a graph from the tsp files\n",
        "#-------------------------------------------------------------------------------\n",
        "def creatArray(fileName):\n",
        "        fileObj = open(fileName, \"r\") #opens the file in read mode\n",
        "        #words = fileObj.readlines()\n",
        "        array = np.loadtxt(fileObj, dtype='i')\n",
        "        fileObj.close()\n",
        "        return array\n",
        "#-------------------------------------------------------------------------------\n",
        "# execute function and get time execution\n",
        "#-------------------------------------------------------------------------------\n",
        "def execTime(t, f, *args):\n",
        "  start = time.time()\n",
        "  f(*args)\n",
        "  end = time.time()\n",
        "  elapsed = end-start\n",
        "  t.append(elapsed)\n",
        "#-------------------------------------------------------------------------------\n",
        "# Show Figure of execution time\n",
        "#-------------------------------------------------------------------------------\n",
        "def showFigure(naive,dynamic,heuristic):\n",
        "\n",
        "  plt.figure(figsize=(10,10))\n",
        "  plt.scat([1,2],naive)\n",
        "  plt.plot([1,2,3],dynamic)\n",
        "  plt.plot([1,2,3,4,5],heuristic)\n",
        "  plt.title(\"Execution time of tsp samples\")\n",
        "  plt.xlabel(\"Tsp (x)\")\n",
        "  plt.ylabel(\"Exec. Time(s)\")\n",
        "  plt.grid()\n",
        "  plt.legend([\"Naive\",\"Dynamic\",\"Heuristic\"])\n",
        "  plt.xticks(range(1,6))\n",
        "  plt.show\n",
        "#-------------------------------------------------------------------------------\n",
        "# Show Figure of heuristic solutions\n",
        "#-------------------------------------------------------------------------------\n",
        "def showHeurSolutions(sol):\n",
        "  plt.figure(figsize=(10,10))\n",
        "  tspS = [253,1248,1194,7013,27603]\n",
        "  plt.plot([1,2,3,4,5],tspS)\n",
        "  plt.plot([1,2,3,4,5],sol)\n",
        "  plt.title(\"Solutions comparasion\")\n",
        "  plt.xlabel(\"Tsp (x)\")\n",
        "  plt.ylabel(\"Solution\")\n",
        "  plt.grid()\n",
        "  plt.legend([\"Optimal Solution\", \"Heuristic\"])\n",
        "  plt.xticks(range(1,6))\n",
        "  plt.show"
      ],
      "execution_count": null,
      "outputs": []
    },
    {
      "cell_type": "markdown",
      "metadata": {
        "id": "k_G-YdEtx2Yo"
      },
      "source": [
        "\n",
        "**Arquivos do drive**"
      ]
    },
    {
      "cell_type": "markdown",
      "metadata": {
        "id": "0pF73JR8Ir19"
      },
      "source": [
        "**Caminho dos Grafos TSP para teste:**"
      ]
    },
    {
      "cell_type": "code",
      "metadata": {
        "id": "ezTARErlFIXf"
      },
      "source": [
        "root_path = \"drive/My Drive/Colab Notebooks/TSP\"\n",
        "tsp1 = root_path+\"/tsp1_253.txt\"\n",
        "tsp2 = root_path+\"/tsp2_1248.txt\"\n",
        "tsp3 = root_path+\"/tsp3_1194.txt\"\n",
        "tsp4 = root_path+\"/tsp4_7013.txt\"\n",
        "tsp5 = root_path+\"/tsp5_27603.txt\"\n"
      ],
      "execution_count": null,
      "outputs": []
    },
    {
      "cell_type": "markdown",
      "metadata": {
        "id": "E9sBXcNzm_Pc"
      },
      "source": [
        "**Algoritmo de TSP simples(NAIVE)**\n",
        "\n",
        "---\n",
        "\n",
        "Uma tentativa \"simples\" de resolução do problema, aqui realizamos uma permutação (n-1)! com os vértices(com exceção da origem), sendo n o número de vértices do grafo, e então calculamos o custo de cada ciclo hamiltoniano baseado nestas permutações começando e terminando em um mesmo vértice arbitrário e passando apenas uma vez pelos outros vértices), o ciclo com o menor custo é a resposta.\n",
        "\n",
        "\n",
        "**Complexidade de tempo:** ![CodeCogsEqn.gif](data:image/gif;base64,R0lGODlhKwATALMAAP///wAAAKqqqoiIiJiYmLq6ulRUVHZ2dmZmZjIyMu7u7szMzNzc3CIiIkRERBAQECH5BAEAAAAALAAAAAArABMAAATwEMhJ61TD6pq1GAQxFJuxWcvDSApiGQR1uBx5UkRgA0I8GaZK4iC8VQqBBSUxQSpQgZWkZ6QsojKBxNDYBIgSh7QKYASezWDDIVi43YLCevKofAiKkEHJCljqAAEIOQGFhQUOXRKKEgwFKT4CDhSAFH4Aa3wXDAmTZUwTWgSMA0ESoJRPBpUVD2ALqBMIYAAGHVsWDU9XYxO8LIx0O1gTt3SyphNDlBVmoUw7Gqy2MjTKaBIEqLMAPgwG2GWeoQchB9ESA1rFPgALBwJoKb0hZBTf9hsO4fb7+c3J8jGw9g8AAn75Cqz7R0BTwUYPe0UAADs=)\n",
        "\n",
        "Só é viável para grafos muito pequenos, em geral é extremamente lento, algoritmos com complexidade fatorais são ainda piores que a maioria dos exponenciais(Uma compledade exponencial ![CodeCogsEqn (3).gif](data:image/gif;base64,R0lGODlhEwANALMAAP///wAAAKqqqoiIiJiYmO7u7lRUVMzMzNzc3Lq6uhAQEERERCIiImZmZnZ2djIyMiH5BAEAAAAALAAAAAATAA0AAARTEMhJQRkuiVaqBwQQHIAjfN6xSAaJUsMgKW/VAomBJIAwEAUC4SZZWQyh3UER6hlRJwJjMjDUJA3HxCC7KniSAOKKCEwED1yNkMZqm6jf5GDqoCIAOw==) seria ainda pior).\n"
      ]
    },
    {
      "cell_type": "code",
      "metadata": {
        "id": "7t9EB-x4nHyX"
      },
      "source": [
        "def tspNaive(graph, s):\n",
        "    V = len(graph[0]) # Lenght of graph\n",
        "    # Store all vertex apart from source vertex\n",
        "    vertex = []\n",
        "    for i in range(V):\n",
        "        if i != s:\n",
        "            vertex.append(i)\n",
        " \n",
        "    # Store minimum weight Hamiltonian Cycle\n",
        "    min_cost = sys.maxsize\n",
        "    p = itertools.permutations(vertex)\n",
        "    \n",
        "    for i in p:\n",
        "        cost = 0\n",
        "        # Current path weight cost\n",
        "        k = s\n",
        "       \n",
        "        for j in i:\n",
        "            cost += graph[k][j]\n",
        "            k = j\n",
        "        cost += graph[k][s]\n",
        " \n",
        "        # Update minimum\n",
        "        if (cost < min_cost):\n",
        "           min_cost = min(min_cost, cost)\n",
        "           C =  i\n",
        "    # tuple whith min cost and the cicle\n",
        "    print( [s]+list(C)+[s], min_cost )"
      ],
      "execution_count": null,
      "outputs": []
    },
    {
      "cell_type": "markdown",
      "metadata": {
        "id": "M5dmx6Cdcqvw"
      },
      "source": [
        "**Algortmo de TSP em Programação dinamica**\n",
        "\n",
        "Uma abordagem um pouco mais interessante que uma solução “naive” é através da programação dinâmica e memoização, onde se realiza a troca de espaço por tempo, guardando na memória as soluções de subproblemas, que no final serão utilizadas para resolver o problema maior, aqui o que queremos é guardar os menores ciclos hamiltonianos entre os vértices, começa se com um ciclo de tamanho 2 e vai se construindo ciclos maiores, de forma que no final ficamos com o menor ciclo hamiltoniano entre todos os vértices, tive dificuldade de encontrar uma forma que me agradasse para guardar os ciclos na memória, mas acabei encontrando uma implementação legal que utiliza uma codificação em bits para os vértices(Fonte no final junto com as outras referências).\n",
        "\n",
        "Complexidade de tempo: ![CodeCogsEqn (7).gif](data:image/gif;base64,R0lGODlhUAAVALMAAP///wAAAO7u7oiIiJiYmGZmZlRUVNzc3CIiInZ2dkRERLq6uhAQEMzMzKqqqjIyMiH5BAEAAAAALAAAAABQABUAAAT+EMhJq73VkVSw/2AohscgGcmorqpggs0jEQprS+/lDgRRCBYDK5G66QaJheM3EXQsBANQckBMcYuVwGpEFhSOGSDQACTCE00lIVzXJrKVoXxLHCSCAEHSeM8rcRILDFcTCwFpeyoDZXc2CHQABQg4LwwWZ3gMihUNZBIKjiILWQA5FpEWmxMJiAB/CwYHpYJtrYVpAY6XFA48Aj1/AAcBxQFFF7whCnFvAgacE7wIbxYFrgCUE7MNqwAO1SAEZTUH0RbEqR+uxxgMbQeB3wAE2qZtIX1IBA+0Fw/nPhDKc2rCAF185EkogMxAQXEBHq4J+IELA2QUGOTYoooWQhFz+hIMUKBuQg8WvAoofBUOgDIq2BzI8OdhHIByEpWYHMFrC5oTGCU8KMRvAkN6K152KkBKyRMQB8KJJIBEFIUBP01xanAGFwiaGY0Ve/rh5IoD+IyoVaHA6zK3a+NWQHvjAFm5eCkwuaEzr196Jc/+9Ws1AgA7)\n",
        "\n",
        "Complexidade de espaço: ![CodeCogsEqn (6).gif](data:image/gif;base64,R0lGODlhSQATALMAAP///wAAAO7u7oiIiJiYmGZmZlRUVNzc3CIiInZ2dkRERLq6uhAQEMzMzKqqqjIyMiH5BAEAAAAALAAAAABJABMAAAT+EMhJ6xTD6s37zhs2EEQhWIaHJYtjenBYaIRxSgdyS8NCDYmCwiEhAAINQIIYa1IcRkoiVUkoKA/pQSIIRBtXgCHpLAOykwVjlw5MoBQEGVBA8EAMs3nJZUQrDUgSClsTfhMJbmJJCwYHPhtzegCNEolsbwGFeRwKaGECBn8anBoOIwIkYxacCGEWBYoAdhsHgk0ESVcHowCPDYcADq8TigEJGwxUB2gaD70eYEAED5BvAAS0AANUFGtdIBUDmhINzVXQMQQB4bDIEgbtEjoADO8VDOEC2hQketIJBiiQZMgaOXwSCpyDR6yehRYT0m3IBWCXPF+yHGSxJoHTPiZQ8O5NeMCmQYEFKF3oKWWB2oQCyEYdIBaQAJBC4kDWC8CT5wwzHMX9abCEjb8yB7pNWtpBAaYYTplK1ZB00oGfU7PSedoEolapFJni/GqVQgQAOw==)\n",
        "\n",
        "Já é bem melhor que uma abordagem naive, mas ainda é um algorítimo exponencial e ainda temos um custo elevado de memória.\n"
      ]
    },
    {
      "cell_type": "code",
      "metadata": {
        "id": "7py7ZtD7FDd7"
      },
      "source": [
        "def held_karp(dists):\n",
        "   \n",
        "    n = len(dists)\n",
        "\n",
        "    # Maps each subset of the nodes to the cost to reach that subset, as well\n",
        "    # as what node it passed before reaching this subset.\n",
        "    # Node subsets are represented as set bits.\n",
        "    C = {}\n",
        "\n",
        "    # Set transition cost from initial state\n",
        "    for k in range(1, n):\n",
        "        C[(1 << k, k)] = (dists[0][k], 0)\n",
        "\n",
        "    # Iterate subsets of increasing length and store intermediate results\n",
        "    # in classic dynamic programming manner\n",
        "    for subset_size in range(2, n):\n",
        "        for subset in itertools.combinations(range(1, n), subset_size):\n",
        "            # Set bits for all nodes in this subset\n",
        "            bits = 0\n",
        "            for bit in subset:\n",
        "                bits |= 1 << bit\n",
        "\n",
        "            # Find the lowest cost to get to this subset\n",
        "            for k in subset:\n",
        "                prev = bits & ~(1 << k)\n",
        "\n",
        "                res = []\n",
        "                for m in subset:\n",
        "                    if m == 0 or m == k:\n",
        "                        continue\n",
        "                    res.append((C[(prev, m)][0] + dists[m][k], m))\n",
        "                C[(bits, k)] = min(res)\n",
        "\n",
        "    # We're interested in all bits but the least significant (the start state)\n",
        "    bits = (2**n - 1) - 1\n",
        "\n",
        "    # Calculate optimal cost\n",
        "    res = []\n",
        "    for k in range(1, n):\n",
        "        res.append((C[(bits, k)][0] + dists[k][0], k))\n",
        "    opt, parent = min(res)\n",
        "\n",
        "    # Backtrack to find full path\n",
        "    path = []\n",
        "    for i in range(n - 1):\n",
        "        path.append(parent)\n",
        "        new_bits = bits & ~(1 << parent)\n",
        "        _, parent = C[(bits, parent)]\n",
        "        bits = new_bits\n",
        "\n",
        "    # Add implicit start state\n",
        "    path.append(0)\n",
        "\n",
        "    print(list(reversed(path))+[0], opt)"
      ],
      "execution_count": null,
      "outputs": []
    },
    {
      "cell_type": "markdown",
      "metadata": {
        "id": "K08_K5yAMI0A"
      },
      "source": [
        "**Algortmo de TSP com Heurística**\n",
        "\n",
        "Existem uma quantidade muito grande de algorítimos que resolvem TSP de forma aproximada, aqui por questão de praticidade foi escolhida uma abordagem muito simples, geramos uma MST do grafo, aqui utilizei o algoritmo Prim e então realizei uma busca  por profundidade para pegar os vértices em pré-ordem, e calculei o ciclo, somando ainda um caminho do último vértice para o primeiro. Certamente não é a abordagem mais eficiente, mas resolve o problema de forma razoável.\n",
        "\n",
        "Complexidade de tempo: ![CodeCogsEqn (9).gif](data:image/gif;base64,R0lGODlhMQAVALMAAP///wAAAO7u7oiIiJiYmGZmZlRUVNzc3CIiInZ2dkRERLq6uhAQEMzMzKqqqjIyMiH5BAEAAAAALAAAAAAxABUAAAT+EMhJq70YOJJK/mAoHYNkJGIolCnQPBKhSOy1DgRRCJYxDYiAoUEZBBCESgIFEHgsBANvhJjSFpQE4+KrCKqTjbKbnU1gFEIAap0MK2jJgtGWryViyiJwoBwcFgNEfRMJgE0MSRYNAUQACoQTBwFYhRYLlTUAC10JAXV4fBJbFgGKGpEjAasBTBOkCGYWBXcACBcMTystEnetGAxdB3EUCmaaKXQCAcg0oi7EEwW3DZW8YAyuFAw1XxdGAM0ipAXRAAayoxcOraDjEl+HJtoSD6CMp7wH6Qk4AwmpfsibIMBcihy8ABwgkxCDAncgHjbEsHDigScTK+zIuGBgRgIHjjIGtEghAgA7)\n",
        "\n",
        "Aqui só considerei no calculo o pior caso de prim, mas basicamente é muito mais rápido que os algoritmos que dão as soluções exatas, o que o torna, apesar da imprecisão, uma opção viável para grafos grandes."
      ]
    },
    {
      "cell_type": "code",
      "metadata": {
        "id": "S1995-xbMRd0"
      },
      "source": [
        "#-------------------------------------------------------------------------------\n",
        "# Create an MST from a graph\n",
        "#-------------------------------------------------------------------------------\n",
        "def prim(G):\n",
        "  # Prim's Algorithm in Python\n",
        "  mst = []\n",
        "  for i in range(len(G)):\n",
        "    mst.append([])\n",
        "  INF = 9999999\n",
        "\n",
        "  # number of vertices in graph\n",
        "  V = len(G)\n",
        "  \n",
        "  # create a array to track selected vertex\n",
        "  # selected will become true otherwise false\n",
        "  selected = [0]*len(G)\n",
        "  # set number of edge to 0\n",
        "  no_edge = 0\n",
        "  # the number of egde in minimum spanning tree will be\n",
        "  # always less than(V - 1), where V is number of vertices in\n",
        "  # graph\n",
        "  # choose 0th vertex and make it true\n",
        "  selected[0] = True\n",
        "  # print for edge and weight\n",
        "  #print(\"Edge : Weight\\n\")\n",
        "  while (no_edge < V - 1):\n",
        "      # For every vertex in the set S, find the all adjacent vertices\n",
        "      #, calculate the distance from the vertex selected at step 1.\n",
        "      # if the vertex is already in the set S, discard it otherwise\n",
        "      # choose another vertex nearest to selected vertex  at step 1.\n",
        "      minimum = INF\n",
        "      x = 0\n",
        "      y = 0\n",
        "      for i in range(V):\n",
        "          if selected[i]:\n",
        "              for j in range(V):\n",
        "                  if ((not selected[j]) and G[i][j]):  \n",
        "                      # not in selected and there is an edge\n",
        "                      if minimum > G[i][j]:\n",
        "                          minimum = G[i][j]\n",
        "                          x = i\n",
        "                          y = j\n",
        "      \n",
        "     # if mst[x] == []:\n",
        "      mst[x].append(y)\n",
        "      #else :\n",
        "      #  bisect.insort(mst[x], y)\n",
        "           \n",
        "      #print(str(x) + \"-\" + str(y) + \":\" + str(G[x][y]))\n",
        "      selected[y] = True\n",
        "      no_edge += 1\n",
        "\n",
        "  return mst \n",
        "#-------------------------------------------------------------------------------\n",
        "\n",
        "#-------------------------------------------------------------------------------\n",
        "# DSF search on an mst (in an array abstraction: each node is an \n",
        "# list of edges) to get a path\n",
        "#-------------------------------------------------------------------------------\n",
        "def dsfMST(mst, i, j, g, p):\n",
        "  if mst[i] == []:\n",
        "    return\n",
        " \n",
        "  while mst[i] != []:\n",
        "    p[0].append(mst[i][0])\n",
        "    p[1]= p[1] + g[j[0]][mst[i][0]]\n",
        "    \n",
        "    j[0] = mst[i][0]\n",
        "    mst[i].remove(j[0])\n",
        "    \n",
        "    dsfMST(mst, j[0], j, g, p )\n",
        "  return\n",
        "#------------------------------------------------------------------------------- \n",
        "\n",
        "#-------------------------------------------------------------------------------\n",
        "# Get an hamiltonian cycle from a path from a dsf search, adding the last path to \n",
        "# the origin vertex\n",
        "#-------------------------------------------------------------------------------\n",
        "def heuTSP(G):\n",
        "  mst = prim(G)\n",
        "  p=[[0],0]\n",
        "  v = [0]\n",
        "  dsfMST(mst, 0, v, G, p)\n",
        "  p[0].append(0)\n",
        "  p[1] = p[1] + G[v[0]][0]\n",
        "  print(p)\n",
        "#-------------------------------------------------------------------------------"
      ],
      "execution_count": null,
      "outputs": []
    },
    {
      "cell_type": "markdown",
      "metadata": {
        "id": "5i9gannfMUuV"
      },
      "source": [
        "**Testes**"
      ]
    },
    {
      "cell_type": "markdown",
      "metadata": {
        "id": "8fG92JIbVG0F"
      },
      "source": [
        "**Naive:**\n",
        "\n",
        "tsp 1,2 = ok\n",
        "\n",
        "tsp 3,4,5 = n/a"
      ]
    },
    {
      "cell_type": "code",
      "metadata": {
        "id": "bW1JN2cy_Pk5"
      },
      "source": [
        "naiveT = []"
      ],
      "execution_count": null,
      "outputs": []
    },
    {
      "cell_type": "code",
      "metadata": {
        "colab": {
          "base_uri": "https://localhost:8080/"
        },
        "id": "D1TVY1l_cpzf",
        "outputId": "b3f576f6-8e6f-45b8-bae1-2aa5c0eff6e7"
      },
      "source": [
        "g = creatArray(tsp1)\n",
        "execTime(naiveT,tspNaive,g,0)"
      ],
      "execution_count": null,
      "outputs": [
        {
          "output_type": "stream",
          "text": [
            "[0, 7, 4, 3, 9, 5, 2, 6, 1, 10, 8, 0] 253\n"
          ],
          "name": "stdout"
        }
      ]
    },
    {
      "cell_type": "code",
      "metadata": {
        "colab": {
          "base_uri": "https://localhost:8080/"
        },
        "id": "SCw2ldoMBNcl",
        "outputId": "2f8026f9-8dfd-40c2-dd63-4b784c4397d1"
      },
      "source": [
        "g = creatArray(tsp2)\n",
        "execTime(naiveT,tspNaive,g,0)"
      ],
      "execution_count": null,
      "outputs": [
        {
          "output_type": "stream",
          "text": [
            "[0, 1, 2, 3, 4, 5, 0] 1248\n"
          ],
          "name": "stdout"
        }
      ]
    },
    {
      "cell_type": "code",
      "metadata": {
        "id": "vJR0b9Nc_YnR"
      },
      "source": [
        "g = creatArray(tsp3)\n",
        "execTime(naiveT,tspNaive,g,0)"
      ],
      "execution_count": null,
      "outputs": []
    },
    {
      "cell_type": "code",
      "metadata": {
        "id": "a_MG0wITBBI0"
      },
      "source": [
        "g = creatArray(tsp4)\n",
        "execTime(naiveT,tspNaive,g,0)"
      ],
      "execution_count": null,
      "outputs": []
    },
    {
      "cell_type": "code",
      "metadata": {
        "id": "iUbE0rx9BB5a"
      },
      "source": [
        "g = creatArray(tsp5)\n",
        "execTime(naiveT,tspNaive,g,0)"
      ],
      "execution_count": null,
      "outputs": []
    },
    {
      "cell_type": "code",
      "metadata": {
        "colab": {
          "base_uri": "https://localhost:8080/"
        },
        "id": "OvMPeWNsCiVU",
        "outputId": "19f07ce1-d0ec-4828-a8f7-307b259c4ea4"
      },
      "source": [
        "naiveT"
      ],
      "execution_count": null,
      "outputs": [
        {
          "output_type": "execute_result",
          "data": {
            "text/plain": [
              "[31.63322687149048, 0.0009291172027587891]"
            ]
          },
          "metadata": {
            "tags": []
          },
          "execution_count": 27
        }
      ]
    },
    {
      "cell_type": "markdown",
      "metadata": {
        "id": "ykCguQTHIN4w"
      },
      "source": [
        "**Held Karp/Prog Dinâmica**\n",
        "\n",
        "tsp 1,2,3 = ok\n",
        "\n",
        "tsp 4, 5 = n/a (inclusive com estouro de memoria)\n"
      ]
    },
    {
      "cell_type": "code",
      "metadata": {
        "id": "s6J6wErrI2ss"
      },
      "source": [
        "hkTime = []"
      ],
      "execution_count": null,
      "outputs": []
    },
    {
      "cell_type": "code",
      "metadata": {
        "id": "2Wg9uhB8MdrO",
        "colab": {
          "base_uri": "https://localhost:8080/"
        },
        "outputId": "00bcabb8-fad9-47a2-e562-6b78f6cb343d"
      },
      "source": [
        "g = creatArray(tsp1)\n",
        "execTime(hkTime,held_karp,g)"
      ],
      "execution_count": null,
      "outputs": [
        {
          "output_type": "stream",
          "text": [
            "[0, 8, 10, 1, 6, 2, 5, 9, 3, 4, 7, 0] 253\n"
          ],
          "name": "stdout"
        }
      ]
    },
    {
      "cell_type": "code",
      "metadata": {
        "id": "XFY3tinUKOGQ",
        "colab": {
          "base_uri": "https://localhost:8080/"
        },
        "outputId": "938d5fa5-bc5a-4ad0-e6da-ca1acf677924"
      },
      "source": [
        "g = creatArray(tsp2)\n",
        "execTime(hkTime,held_karp,g)"
      ],
      "execution_count": null,
      "outputs": [
        {
          "output_type": "stream",
          "text": [
            "[0, 5, 4, 3, 2, 1, 0] 1248\n"
          ],
          "name": "stdout"
        }
      ]
    },
    {
      "cell_type": "code",
      "metadata": {
        "colab": {
          "base_uri": "https://localhost:8080/"
        },
        "id": "ef85hJjEKS-k",
        "outputId": "34f5cc06-301c-4be4-d3f6-e0baf6b65cae"
      },
      "source": [
        "g = creatArray(tsp3)\n",
        "execTime(hkTime,held_karp,g)"
      ],
      "execution_count": null,
      "outputs": [
        {
          "output_type": "stream",
          "text": [
            "[0, 2, 3, 4, 5, 6, 7, 8, 9, 10, 11, 12, 13, 14, 1, 0] 1194\n"
          ],
          "name": "stdout"
        }
      ]
    },
    {
      "cell_type": "code",
      "metadata": {
        "id": "neGFcm36KUsA"
      },
      "source": [
        "g = creatArray(tsp4)\n",
        "execTime(hkTime,held_karp,g)"
      ],
      "execution_count": null,
      "outputs": []
    },
    {
      "cell_type": "code",
      "metadata": {
        "id": "5BMRo3WOKWVT"
      },
      "source": [
        "g = creatArray(tsp5)\n",
        "execTime(hkTime,held_karp,g)"
      ],
      "execution_count": null,
      "outputs": []
    },
    {
      "cell_type": "code",
      "metadata": {
        "id": "NrjdCzotLuwZ",
        "colab": {
          "base_uri": "https://localhost:8080/"
        },
        "outputId": "d7c7d13c-d45c-4855-889c-fb4b65be3335"
      },
      "source": [
        "hkTime"
      ],
      "execution_count": null,
      "outputs": [
        {
          "output_type": "execute_result",
          "data": {
            "text/plain": [
              "[0.03226327896118164, 0.0017313957214355469, 1.0272243022918701]"
            ]
          },
          "metadata": {
            "tags": []
          },
          "execution_count": 32
        }
      ]
    },
    {
      "cell_type": "markdown",
      "metadata": {
        "id": "PmWQfmB0aCSw"
      },
      "source": [
        "**Heuristica MST**\n",
        "\n",
        "tsp 1,2,3,4 = ok (Sem solução otima)"
      ]
    },
    {
      "cell_type": "code",
      "metadata": {
        "id": "tKQAf-1zaled"
      },
      "source": [
        "heurTime = []"
      ],
      "execution_count": null,
      "outputs": []
    },
    {
      "cell_type": "code",
      "metadata": {
        "colab": {
          "base_uri": "https://localhost:8080/"
        },
        "id": "aaMSqmbOarVI",
        "outputId": "c799fa24-73dc-4357-c2a3-1de5987c3e20"
      },
      "source": [
        "g = creatArray(tsp1)\n",
        "execTime(heurTime,heuTSP,g)"
      ],
      "execution_count": null,
      "outputs": [
        {
          "output_type": "stream",
          "text": [
            "[[0, 8, 7, 2, 10, 1, 6, 4, 3, 5, 9, 0], 269]\n"
          ],
          "name": "stdout"
        }
      ]
    },
    {
      "cell_type": "code",
      "metadata": {
        "colab": {
          "base_uri": "https://localhost:8080/"
        },
        "id": "kiMIXakvb_vZ",
        "outputId": "c732a86c-2b57-4272-bcdc-cf803e156d99"
      },
      "source": [
        "g = creatArray(tsp2)\n",
        "execTime(heurTime,heuTSP,g)"
      ],
      "execution_count": null,
      "outputs": [
        {
          "output_type": "stream",
          "text": [
            "[[0, 1, 5, 4, 3, 2, 0], 1272]\n"
          ],
          "name": "stdout"
        }
      ]
    },
    {
      "cell_type": "code",
      "metadata": {
        "colab": {
          "base_uri": "https://localhost:8080/"
        },
        "id": "Dbd3Bh0RcAug",
        "outputId": "e1462a41-a685-4040-af30-391067da865f"
      },
      "source": [
        "g = creatArray(tsp3)\n",
        "execTime(heurTime,heuTSP,g)"
      ],
      "execution_count": null,
      "outputs": [
        {
          "output_type": "stream",
          "text": [
            "[[0, 2, 3, 4, 8, 7, 5, 6, 14, 13, 12, 11, 10, 9, 1, 0], 1424]\n"
          ],
          "name": "stdout"
        }
      ]
    },
    {
      "cell_type": "code",
      "metadata": {
        "colab": {
          "base_uri": "https://localhost:8080/"
        },
        "id": "l8ZNZ6vbcESp",
        "outputId": "c7374a5f-7cd2-46ee-a3ef-013492b6c799"
      },
      "source": [
        "g = creatArray(tsp4)\n",
        "execTime(heurTime,heuTSP,g)"
      ],
      "execution_count": null,
      "outputs": [
        {
          "output_type": "stream",
          "text": [
            "[[0, 7, 22, 21, 43, 16, 1, 2, 23, 24, 38, 3, 17, 25, 39, 29, 15, 12, 13, 34, 14, 4, 26, 36, 35, 11, 6, 5, 28, 27, 19, 20, 41, 42, 18, 9, 8, 10, 32, 30, 31, 40, 33, 37, 0], 9551]\n"
          ],
          "name": "stdout"
        }
      ]
    },
    {
      "cell_type": "code",
      "metadata": {
        "colab": {
          "base_uri": "https://localhost:8080/"
        },
        "id": "l68Ik-WtcEtO",
        "outputId": "4f64affb-4233-44b6-db13-804ff87bc173"
      },
      "source": [
        "g = creatArray(tsp5)\n",
        "execTime(heurTime,heuTSP,g)"
      ],
      "execution_count": null,
      "outputs": [
        {
          "output_type": "stream",
          "text": [
            "[[0, 1, 5, 4, 3, 7, 11, 12, 13, 16, 17, 18, 14, 21, 22, 20, 28, 27, 25, 19, 15, 24, 26, 23, 9, 10, 6, 8, 2, 0], 34902]\n"
          ],
          "name": "stdout"
        }
      ]
    },
    {
      "cell_type": "code",
      "metadata": {
        "colab": {
          "base_uri": "https://localhost:8080/"
        },
        "id": "rHnqxqQ_c6Eu",
        "outputId": "98602d19-6ee8-4da2-d628-99b2fc807c15"
      },
      "source": [
        "heurTime"
      ],
      "execution_count": null,
      "outputs": [
        {
          "output_type": "execute_result",
          "data": {
            "text/plain": [
              "[0.0019762516021728516,\n",
              " 0.0010306835174560547,\n",
              " 0.002268552780151367,\n",
              " 0.015840530395507812,\n",
              " 0.004861116409301758]"
            ]
          },
          "metadata": {
            "tags": []
          },
          "execution_count": 39
        }
      ]
    },
    {
      "cell_type": "markdown",
      "metadata": {
        "id": "UqpZAqSvMeQ2"
      },
      "source": [
        "**Grafico tempo de execução:**\n",
        "\n",
        "Sem valores para tsp3, tsp4, tsp5, para o algoritmo Naive\n",
        "\n",
        "Sem valores para tsp4, tsp5, para o algoritmo Held Karp"
      ]
    },
    {
      "cell_type": "code",
      "metadata": {
        "id": "M_hNTjIMMlo8",
        "colab": {
          "base_uri": "https://localhost:8080/",
          "height": 621
        },
        "outputId": "67e8644c-cefe-4fe2-edcc-dddc6a5d73a0"
      },
      "source": [
        "showFigure(naiveT,hkTime,heurTime)"
      ],
      "execution_count": null,
      "outputs": [
        {
          "output_type": "display_data",
          "data": {
            "image/png": "[encoded data removed]",
            "text/plain": [
              "<Figure size 720x720 with 1 Axes>"
            ]
          },
          "metadata": {
            "tags": [],
            "needs_background": "light"
          }
        }
      ]
    },
    {
      "cell_type": "markdown",
      "metadata": {
        "id": "cqocOQEXO21Q"
      },
      "source": [
        "Diferença entre as soluções da heurística e a solução ótima:\n"
      ]
    },
    {
      "cell_type": "code",
      "metadata": {
        "colab": {
          "base_uri": "https://localhost:8080/",
          "height": 621
        },
        "id": "6W4N-f9FNuAv",
        "outputId": "2d6a6718-8d67-4692-dc31-f89e0000a32d"
      },
      "source": [
        "showHeurSolutions([269,1272,1424,9551,34902])"
      ],
      "execution_count": null,
      "outputs": [
        {
          "output_type": "display_data",
          "data": {
            "image/png": "[encoded data removed]",
            "text/plain": [
              "<Figure size 720x720 with 1 Axes>"
            ]
          },
          "metadata": {
            "tags": [],
            "needs_background": "light"
          }
        }
      ]
    },
    {
      "cell_type": "markdown",
      "metadata": {
        "id": "i9nFEONfNCYr"
      },
      "source": [
        "**Conclusão:**\n",
        "\n",
        "De acordo com os testes, nos grafos com uma tamanho razoável(tsp3 possui 15 vértices, tsp4 44 e tsp5 29) solução ótimas já são um problema, programação dinâmica(held karp) teve um desempenho um pouco melhor que a solução naive, executou as amostras 1,2, e 3 com baixo tempo de execução, mas ja houve um problema com 29 vértices inclusive com um estouro de memória, então não resolve muita coisa, ja a solução com a heurística utilizando MST que apesar de não achar a solução ótima, consegue resolver o problema em um tempo de execução rápido, o que geralmente basta, acredito que é melhor encontrar uma solução, mesmo que não seja a exata, do que não ter solução nenhuma.\n"
      ]
    },
    {
      "cell_type": "markdown",
      "metadata": {
        "id": "XnCgKYwTM5eX"
      },
      "source": [
        "**Referencias:**\n",
        "\n",
        "Leituras sobre tsp e algoritmos ultizados/baseados:\n",
        "\n",
        "https://towardsdatascience.com/solving-tsp-using-dynamic-programming-2c77da86610d\n",
        "\n",
        "https://medium.com/hackernoon/yats-yet-another-tsp-solution-6a71aeabe1f8\n",
        "\n",
        "https://www.geeksforgeeks.org/travelling-salesman-problem-set-1/\n",
        "\n",
        "https://en.wikipedia.org/wiki/Held–Karp_algorithm\n",
        "\n",
        "Algoritimo naive:\n",
        "\n",
        "https://www.geeksforgeeks.org/traveling-salesman-problem-tsp-implementation/\n",
        "\n",
        "Held Karp: \n",
        "\n",
        "https://github.com/CarlEkerot/held-karp/blob/master/held-karp.py\n",
        "\n",
        "MST prim:\n",
        "\n",
        "https://www.programiz.com/dsa/prim-algorithm\n",
        "\n",
        "\n",
        "\n"
      ]
    }
  ]
}
